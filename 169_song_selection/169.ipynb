{
 "cells": [
  {
   "cell_type": "code",
   "execution_count": 125,
   "id": "c53398fd-6c2f-4bbf-995e-ed1deedc631c",
   "metadata": {
    "tags": []
   },
   "outputs": [],
   "source": [
    "import pandas as pd\n",
    "import numpy as np\n",
    "from sklearn.linear_model import LinearRegression\n",
    "import matplotlib.pyplot as plt"
   ]
  },
  {
   "cell_type": "code",
   "execution_count": 57,
   "id": "6721cf17-0602-4aec-bc77-e87e0f02fbea",
   "metadata": {
    "tags": []
   },
   "outputs": [],
   "source": [
    "ratings = np.loadtxt(\"musicRatings (1).csv\", delimiter=\",\")\n",
    "ratings = ratings[:, :-1]\n",
    "full_ratings = np.loadtxt(\"full_ratings.csv\", delimiter=\",\")\n",
    "full_ratings = full_ratings[:, :-1]"
   ]
  },
  {
   "cell_type": "code",
   "execution_count": 58,
   "id": "3e22b875-0d59-4f22-9b12-5f26cd0b4978",
   "metadata": {
    "tags": []
   },
   "outputs": [],
   "source": [
    "count_nan = np.isnan(ratings).sum()\n",
    "count_all = ratings.shape[0] * ratings.shape[1]\n",
    "count_nonnan = count_all - count_nan\n",
    "ratio320 = 320 * 944 / count_nonnan"
   ]
  },
  {
   "cell_type": "code",
   "execution_count": 74,
   "id": "d7748ae7-23c1-4f72-9179-ced17cbf1d4e",
   "metadata": {
    "tags": []
   },
   "outputs": [],
   "source": [
    "def getVIFs(data):\n",
    "    res = []\n",
    "    \n",
    "    for i in range(data.shape[1]):\n",
    "        X = np.concatenate([data[:, :i], data[:, i+1:]], axis=1)\n",
    "        y = data[:, i]\n",
    "        reg = LinearRegression().fit(X, y)\n",
    "        res.append(1/(1 - reg.score(X, y)))\n",
    "        \n",
    "    return list(enumerate(res))"
   ]
  },
  {
   "cell_type": "code",
   "execution_count": 93,
   "id": "59948c91-2edf-4c94-a9cf-953bbab03834",
   "metadata": {
    "tags": []
   },
   "outputs": [],
   "source": [
    "lis320 = getVIFs(full_ratings[:, :320])\n",
    "list320_sorted = sorted(lis320, key=lambda x:x[1])\n",
    "list320_sorted = list320_sorted[:int(ratio320*169)]"
   ]
  },
  {
   "cell_type": "code",
   "execution_count": 96,
   "id": "90fc3334-0dde-4e15-912c-3f3c710003df",
   "metadata": {
    "tags": []
   },
   "outputs": [
    {
     "data": {
      "text/plain": [
       "[(300, 2.137414903738411),\n",
       " (315, 2.407087646330532),\n",
       " (12, 2.504890990855245),\n",
       " (203, 2.5325030214767574),\n",
       " (279, 2.541269625269313),\n",
       " (313, 2.554162108760314),\n",
       " (301, 2.5852467670442727),\n",
       " (192, 2.5957811508533717),\n",
       " (122, 2.6023222582672947),\n",
       " (225, 2.647225569976174),\n",
       " (223, 2.6592305951713757),\n",
       " (125, 2.6926121438289723),\n",
       " (116, 2.7029248762993867),\n",
       " (314, 2.720282922436673),\n",
       " (312, 2.7210256370182697),\n",
       " (304, 2.7307188226213173),\n",
       " (176, 2.7360322769464207),\n",
       " (208, 2.756833972023675),\n",
       " (185, 2.761715795939601),\n",
       " (228, 2.776181234314311),\n",
       " (293, 2.7908487704361424),\n",
       " (258, 2.792447071924747),\n",
       " (209, 2.8081772964685157),\n",
       " (191, 2.8090105900499553),\n",
       " (272, 2.8117818486567434),\n",
       " (7, 2.827843305618178),\n",
       " (90, 2.8279056767116586),\n",
       " (311, 2.8506272650491087),\n",
       " (96, 2.855978043978253),\n",
       " (88, 2.861942755884301),\n",
       " (282, 2.8750220060525296),\n",
       " (79, 2.892951740511448),\n",
       " (180, 2.8932639491138774),\n",
       " (175, 2.8962038367998244),\n",
       " (82, 2.9139133275364353),\n",
       " (52, 2.918441335272713),\n",
       " (77, 2.9216223046088357),\n",
       " (248, 2.9217276967712733),\n",
       " (263, 2.9222352289787),\n",
       " (97, 2.923316298597437),\n",
       " (316, 2.9356017766982396),\n",
       " (173, 2.939446794229376),\n",
       " (227, 2.9777958189949456),\n",
       " (306, 2.979452103919396),\n",
       " (94, 2.98517025900062),\n",
       " (280, 2.995806040145623),\n",
       " (65, 2.999809573791428),\n",
       " (15, 3.001857555832006),\n",
       " (91, 3.0089852174414946),\n",
       " (83, 3.0090619095925573),\n",
       " (98, 3.009222478975932),\n",
       " (264, 3.010601870267018),\n",
       " (266, 3.020248522073027),\n",
       " (310, 3.033615620409812),\n",
       " (76, 3.0359153639065357),\n",
       " (10, 3.036817132121504),\n",
       " (181, 3.037388673567877),\n",
       " (244, 3.0422241112407495),\n",
       " (289, 3.044585918737868),\n",
       " (302, 3.047601506675046),\n",
       " (222, 3.049154575982439),\n",
       " (294, 3.0516054253967164),\n",
       " (158, 3.05255065571793),\n",
       " (74, 3.0553430954115237),\n",
       " (71, 3.0591557315830213),\n",
       " (160, 3.0650352925505455),\n",
       " (18, 3.069559023830247),\n",
       " (267, 3.0738466071558546),\n",
       " (168, 3.0751428085124086),\n",
       " (99, 3.0755865458671954),\n",
       " (247, 3.0823018226904777),\n",
       " (95, 3.091738353437205),\n",
       " (84, 3.0971404352919363),\n",
       " (186, 3.099613073304441),\n",
       " (295, 3.1062727179537917),\n",
       " (127, 3.1127679674293502),\n",
       " (40, 3.118307782179798),\n",
       " (154, 3.12040578202646),\n",
       " (220, 3.122372378130592),\n",
       " (9, 3.126336936997772),\n",
       " (81, 3.12934561320387),\n",
       " (226, 3.13309600285927),\n",
       " (30, 3.133594714134184),\n",
       " (307, 3.1429123823146607),\n",
       " (75, 3.146615866609119),\n",
       " (171, 3.1562480758877234),\n",
       " (25, 3.1641180753453457),\n",
       " (290, 3.1671483128774933),\n",
       " (207, 3.178918194146568),\n",
       " (92, 3.1826188894537935),\n",
       " (28, 3.1867068859524155),\n",
       " (221, 3.1869765203164904),\n",
       " (297, 3.1905071172686976),\n",
       " (80, 3.192128657337953),\n",
       " (298, 3.192993505364056),\n",
       " (62, 3.1983122248165183),\n",
       " (39, 3.211008080960283),\n",
       " (51, 3.2143709502089473),\n",
       " (87, 3.2217024506786727),\n",
       " (163, 3.2301164019404713),\n",
       " (42, 3.2309763580687774),\n",
       " (242, 3.235818605286562),\n",
       " (269, 3.2435553564654596),\n",
       " (29, 3.2471766816455037),\n",
       " (120, 3.2481825951510883),\n",
       " (308, 3.248431009672818),\n",
       " (126, 3.251206548440528),\n",
       " (284, 3.258097283459463),\n",
       " (93, 3.2591631697169205),\n",
       " (156, 3.2593041273059926),\n",
       " (89, 3.261214738418236),\n",
       " (41, 3.2633749059397745),\n",
       " (214, 3.2653793855316486),\n",
       " (16, 3.267789310066623),\n",
       " (147, 3.2681924866184966),\n",
       " (287, 3.2714621233548904),\n",
       " (150, 3.274936938524214),\n",
       " (257, 3.2755828778008347),\n",
       " (50, 3.277533250246467),\n",
       " (86, 3.2940120326784874),\n",
       " (283, 3.30737215204908),\n",
       " (167, 3.3085168076822566),\n",
       " (236, 3.310192996934325),\n",
       " (288, 3.3221942843069034),\n",
       " (261, 3.3274416139825505),\n",
       " (153, 3.3279409723655173),\n",
       " (0, 3.3335763131101506),\n",
       " (212, 3.3338850638698996),\n",
       " (303, 3.3407403728067298),\n",
       " (115, 3.3439054415723213),\n",
       " (286, 3.3503249089491884),\n",
       " (296, 3.3532766151187157),\n",
       " (299, 3.357315154795187),\n",
       " (104, 3.373160475680158),\n",
       " (270, 3.378199033585128),\n",
       " (199, 3.3841790044531757),\n",
       " (245, 3.3857388290865993),\n",
       " (237, 3.3872784435933543),\n",
       " (240, 3.3898037438122426)]"
      ]
     },
     "execution_count": 96,
     "metadata": {},
     "output_type": "execute_result"
    }
   ],
   "source": [
    "list320_sorted"
   ]
  },
  {
   "cell_type": "code",
   "execution_count": 94,
   "id": "336ed916-642b-4028-a391-521688c4002b",
   "metadata": {
    "tags": []
   },
   "outputs": [],
   "source": [
    "lis679 = getVIFs(full_ratings[:, 320:])\n",
    "list679_sorted = sorted(lis679, key=lambda x:x[1])\n",
    "list679_sorted = list679_sorted[:169 - int(ratio320*169)]\n",
    "list679_sorted = [(i[0]+320, i[1]) for i in list679_sorted]"
   ]
  },
  {
   "cell_type": "code",
   "execution_count": 95,
   "id": "705727bd-4842-4cd3-b683-fa0137e2506f",
   "metadata": {
    "tags": []
   },
   "outputs": [
    {
     "data": {
      "text/plain": [
       "[(624, 15.012077092179759),\n",
       " (323, 15.379115556515647),\n",
       " (887, 15.688302567348838),\n",
       " (722, 15.808868865956544),\n",
       " (826, 15.94033957976761),\n",
       " (590, 16.927564402107837),\n",
       " (451, 18.16467084986153),\n",
       " (582, 18.216516055475367),\n",
       " (613, 18.24896549197059),\n",
       " (397, 18.38431360171543),\n",
       " (989, 18.58875353800096),\n",
       " (955, 18.907884661884843),\n",
       " (531, 18.996471673215698),\n",
       " (765, 19.207554656050057),\n",
       " (486, 19.238664703055978),\n",
       " (427, 19.604729913794134),\n",
       " (391, 19.734757315131244),\n",
       " (959, 19.892391484860315),\n",
       " (716, 19.964382631210523),\n",
       " (640, 20.12524033681858),\n",
       " (723, 20.286139658244664),\n",
       " (421, 20.324666166297842),\n",
       " (525, 20.41866355214999),\n",
       " (825, 20.502892575953442),\n",
       " (681, 20.538145974287744),\n",
       " (550, 20.600387237941522),\n",
       " (494, 20.720104918427097),\n",
       " (570, 20.75750449265707),\n",
       " (836, 20.81386315347874),\n",
       " (495, 20.9851672484255)]"
      ]
     },
     "execution_count": 95,
     "metadata": {},
     "output_type": "execute_result"
    }
   ],
   "source": [
    "list679_sorted"
   ]
  },
  {
   "cell_type": "code",
   "execution_count": 3,
   "id": "9e2944cc-d5b4-4800-b6e7-772a8c2fe885",
   "metadata": {
    "tags": []
   },
   "outputs": [
    {
     "ename": "NameError",
     "evalue": "name 'pd' is not defined",
     "output_type": "error",
     "traceback": [
      "\u001b[1;31m---------------------------------------------------------------------------\u001b[0m",
      "\u001b[1;31mNameError\u001b[0m                                 Traceback (most recent call last)",
      "Cell \u001b[1;32mIn[3], line 1\u001b[0m\n\u001b[1;32m----> 1\u001b[0m music_lib \u001b[38;5;241m=\u001b[39m pd\u001b[38;5;241m.\u001b[39mread_excel(\u001b[38;5;124m'\u001b[39m\u001b[38;5;124mMusicTable.xlsx\u001b[39m\u001b[38;5;124m'\u001b[39m)\u001b[38;5;241m.\u001b[39miloc[:, :\u001b[38;5;241m8\u001b[39m]\n\u001b[0;32m      2\u001b[0m music_lib\u001b[38;5;241m.\u001b[39mreplace(\u001b[38;5;124m'\u001b[39m\u001b[38;5;124m \u001b[39m\u001b[38;5;124m'\u001b[39m, np\u001b[38;5;241m.\u001b[39mnan, inplace\u001b[38;5;241m=\u001b[39m\u001b[38;5;28;01mTrue\u001b[39;00m)\n\u001b[0;32m      3\u001b[0m music_lib \u001b[38;5;241m=\u001b[39m music_lib\u001b[38;5;241m.\u001b[39mdropna()\n",
      "\u001b[1;31mNameError\u001b[0m: name 'pd' is not defined"
     ]
    }
   ],
   "source": [
    "music_lib = pd.read_excel('MusicTable.xlsx').iloc[:, :8]\n",
    "music_lib.replace(' ', np.nan, inplace=True)\n",
    "music_lib = music_lib.dropna()\n",
    "source_lib = pd.read_excel('MusicTable.xlsx').iloc[:6, [8]]\n",
    "genre_lib = pd.read_excel('MusicTable.xlsx').iloc[:9, [9]]"
   ]
  },
  {
   "cell_type": "code",
   "execution_count": null,
   "id": "e27e3382-ff22-438f-9e1e-99e4845279fa",
   "metadata": {
    "tags": []
   },
   "outputs": [],
   "source": [
    "select320 = music_lib.iloc[[i[0] for i in list320_sorted]]\n",
    "select679 = music_lib.iloc[[i[0] for i in list679_sorted]]"
   ]
  },
  {
   "cell_type": "code",
   "execution_count": 155,
   "id": "38993ba0-a17a-4dcb-8eff-8d196ae91a0d",
   "metadata": {
    "tags": []
   },
   "outputs": [
    {
     "data": {
      "image/png": "[encoded data removed]",
      "text/plain": [
       "<Figure size 640x480 with 1 Axes>"
      ]
     },
     "metadata": {},
     "output_type": "display_data"
    },
    {
     "name": "stdout",
     "output_type": "stream",
     "text": [
      "                           Genre.1\n",
      "0   1 = Classical/Opera/Soundtrack\n",
      "1                 2 = Country/Folk\n",
      "2             3 = Electronic/Dance\n",
      "3                   4 = Jazz/Vocal\n",
      "4               5 = Pop/Mainstream\n",
      "5                   6 = Rap/Hiphop\n",
      "6  7 = Rock/Alternative/Metal/Punk\n",
      "7          8 = R&B/Soul/Funk/Disco\n",
      "8          9 = World/International\n"
     ]
    }
   ],
   "source": [
    "plt.hist(select320[\"Genre\"].astype(int), bins = 10, ec = \"b\")\n",
    "plt.title(\"Genre Distribution\")\n",
    "plt.show()\n",
    "print(genre_lib)"
   ]
  },
  {
   "cell_type": "code",
   "execution_count": 156,
   "id": "ff39c32e-8d0a-4f28-ba81-46e6e72da268",
   "metadata": {
    "tags": []
   },
   "outputs": [
    {
     "data": {
      "image/png": "[encoded data removed]",
      "text/plain": [
       "<Figure size 640x480 with 1 Axes>"
      ]
     },
     "metadata": {},
     "output_type": "display_data"
    },
    {
     "name": "stdout",
     "output_type": "stream",
     "text": [
      "                           Genre.1\n",
      "0   1 = Classical/Opera/Soundtrack\n",
      "1                 2 = Country/Folk\n",
      "2             3 = Electronic/Dance\n",
      "3                   4 = Jazz/Vocal\n",
      "4               5 = Pop/Mainstream\n",
      "5                   6 = Rap/Hiphop\n",
      "6  7 = Rock/Alternative/Metal/Punk\n",
      "7          8 = R&B/Soul/Funk/Disco\n",
      "8          9 = World/International\n"
     ]
    }
   ],
   "source": [
    "plt.hist(select679.dropna()[\"Genre\"].astype(int), bins = 10, ec = \"b\")\n",
    "plt.title(\"Genre Distribution\")\n",
    "plt.show()\n",
    "print(genre_lib)"
   ]
  },
  {
   "cell_type": "code",
   "execution_count": 158,
   "id": "b2293f6a-7fa7-4b3f-99cd-28fe1b3dd105",
   "metadata": {
    "tags": []
   },
   "outputs": [
    {
     "data": {
      "image/png": "[encoded data removed]",
      "text/plain": [
       "<Figure size 640x480 with 1 Axes>"
      ]
     },
     "metadata": {},
     "output_type": "display_data"
    },
    {
     "name": "stdout",
     "output_type": "stream",
     "text": [
      "                           Genre.1\n",
      "0   1 = Classical/Opera/Soundtrack\n",
      "1                 2 = Country/Folk\n",
      "2             3 = Electronic/Dance\n",
      "3                   4 = Jazz/Vocal\n",
      "4               5 = Pop/Mainstream\n",
      "5                   6 = Rap/Hiphop\n",
      "6  7 = Rock/Alternative/Metal/Punk\n",
      "7          8 = R&B/Soul/Funk/Disco\n",
      "8          9 = World/International\n"
     ]
    }
   ],
   "source": [
    "plt.hist(music_lib.dropna()[\"Genre\"].astype(int), bins = 10, ec = \"b\")\n",
    "plt.title(\"Genre Distribution\")\n",
    "plt.show()\n",
    "print(genre_lib)"
   ]
  },
  {
   "cell_type": "code",
   "execution_count": 159,
   "id": "679ca0ed-c9ba-4182-9626-44da0dbb0794",
   "metadata": {
    "tags": []
   },
   "outputs": [],
   "source": [
    "select320.to_csv('select320.csv')\n",
    "select679.to_csv('select679.csv')"
   ]
  },
  {
   "cell_type": "code",
   "execution_count": null,
   "id": "bd035dff-aa51-4744-9047-ce8a7baa7a74",
   "metadata": {},
   "outputs": [],
   "source": []
  }
 ],
 "metadata": {
  "kernelspec": {
   "display_name": "Python 3 (ipykernel)",
   "language": "python",
   "name": "python3"
  },
  "language_info": {
   "codemirror_mode": {
    "name": "ipython",
    "version": 3
   },
   "file_extension": ".py",
   "mimetype": "text/x-python",
   "name": "python",
   "nbconvert_exporter": "python",
   "pygments_lexer": "ipython3",
   "version": "3.11.3"
  }
 },
 "nbformat": 4,
 "nbformat_minor": 5
}
